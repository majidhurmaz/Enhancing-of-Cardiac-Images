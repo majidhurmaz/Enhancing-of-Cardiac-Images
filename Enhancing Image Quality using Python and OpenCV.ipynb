{
 "cells": [
  {
   "cell_type": "markdown",
   "metadata": {},
   "source": [
    "# **<p justify='center'> Enhancing Image Quality using Python and OpenCV </p>**"
   ]
  },
  {
   "cell_type": "markdown",
   "metadata": {},
   "source": []
  },
  {
   "cell_type": "markdown",
   "metadata": {},
   "source": [
    "**Introduction:**\n",
    "<p align='justify'> In the world of digital imagery, it is often desirable to enhance the quality of images to make them more visually appealing or improve their clarity. With the help of Python and the OpenCV library, we can implement various techniques to enhance the quality of images. In this blog, we will explore a simple code snippet that demonstrates how to enhance image quality using OpenCV in Python.</p>"
   ]
  },
  {
   "cell_type": "markdown",
   "metadata": {},
   "source": [
    "**Code Explanation:**\n",
    "<p justify='justify'> The code begins by importing the necessary libraries, including OpenCV. It then defines a function called enhance_image that takes an image as input and applies image processing techniques to enhance its quality. In this example, we demonstrate the application of unsharp masking for sharpening the image.\n",
    "\n",
    "Unsharp masking is a popular technique that involves creating a blurred version of the image and then subtracting it from the original image to enhance the edges and details. The resulting image is a combination of the original image and the blurred version, weighted accordingly.\n",
    "\n",
    "The enhance_image function converts the image to grayscale and applies unsharp masking using the OpenCV functions GaussianBlur and addWeighted. </p>"
   ]
  },
  {
   "cell_type": "code",
   "execution_count": 17,
   "metadata": {},
   "outputs": [],
   "source": [
    "import cv2\n",
    "import numpy as np\n"
   ]
  },
  {
   "cell_type": "code",
   "execution_count": null,
   "metadata": {},
   "outputs": [],
   "source": [
    "\n",
    "def enhance_image(image):\n",
    "    # Convert image to grayscale\n",
    "    gray = cv2.cvtColor(image, cv2.COLOR_BGR2GRAY)\n",
    "    \n",
    "    # Apply image processing techniques to enhance quality\n",
    "    # Example: Unsharp masking for sharpening\n",
    "    blurred = cv2.GaussianBlur(gray, (0, 0), 3)\n",
    "    sharpened = cv2.addWeighted(gray, 2.5, blurred, -1, 0)\n",
    "    \n",
    "    # Convert the enhanced image back to color (if needed)\n",
    "    enhanced_image = cv2.cvtColor(sharpened, cv2.COLOR_GRAY2BGR)\n",
    "    \n",
    "    return enhanced_image\n"
   ]
  },
  {
   "cell_type": "markdown",
   "metadata": {},
   "source": [
    "**Usage:**\n",
    "<p align='justify'>To use this code, you need to provide the path or filename of the image you want to enhance. After reading the image using cv2.imread, you can call the enhance_image function and pass the image as a parameter. The code will display both the original and enhanced images using cv2.imshow. </p>"
   ]
  },
  {
   "cell_type": "code",
   "execution_count": null,
   "metadata": {},
   "outputs": [],
   "source": [
    "\n",
    "# Read the image\n",
    "image = cv2.imread('image2.png')\n",
    "\n",
    "# Enhance the quality of the image\n",
    "enhanced_image = enhance_image(image)\n",
    "\n",
    "# Display the original and enhanced images\n",
    "cv2.imshow('Original Image', image)\n",
    "cv2.imshow('Enhanced Image', enhanced_image)\n",
    "cv2.waitKey(0)\n",
    "cv2.destroyAllWindows()\n"
   ]
  },
  {
   "cell_type": "markdown",
   "metadata": {},
   "source": [
    "**Angiography Image Testing:**\n",
    "<p align='justify'> We have tested this code on angiography images, which are medical images used to visualize blood vessels and blood flow within the body. Angiography images often require enhancement to improve visibility and highlight important details.\n",
    "\n",
    "By applying the unsharp masking technique to angiography images, we can enhance the edges and details, making the blood vessels more distinct and easier to analyze. This enhancement can aid medical professionals in diagnosing and treating various vascular conditions.</p>"
   ]
  },
  {
   "cell_type": "markdown",
   "metadata": {},
   "source": []
  }
 ],
 "metadata": {
  "kernelspec": {
   "display_name": "Python 3",
   "language": "python",
   "name": "python3"
  },
  "language_info": {
   "codemirror_mode": {
    "name": "ipython",
    "version": 3
   },
   "file_extension": ".py",
   "mimetype": "text/x-python",
   "name": "python",
   "nbconvert_exporter": "python",
   "pygments_lexer": "ipython3",
   "version": "3.9.16"
  },
  "orig_nbformat": 4
 },
 "nbformat": 4,
 "nbformat_minor": 2
}
